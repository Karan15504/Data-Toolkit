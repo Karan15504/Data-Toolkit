{
  "nbformat": 4,
  "nbformat_minor": 0,
  "metadata": {
    "colab": {
      "provenance": []
    },
    "kernelspec": {
      "name": "python3",
      "display_name": "Python 3"
    },
    "language_info": {
      "name": "python"
    }
  },
  "cells": [
    {
      "cell_type": "markdown",
      "source": [
        "##Data Toolkit"
      ],
      "metadata": {
        "id": "Kuuz8Vs0mQlZ"
      }
    },
    {
      "cell_type": "markdown",
      "source": [
        "\n",
        "\n",
        "---\n",
        "\n",
        "## Q1. What is NumPy, and why is it widely used in Python?\n",
        "NumPy (Numerical Python) is a fundamental Python library that provides fast and efficient tools for numerical computations.  \n",
        "It introduces the **ndarray** object, which is a powerful multi-dimensional array. Unlike regular Python lists, NumPy arrays are optimized for speed and memory efficiency.  \n",
        "\n",
        "**Why widely used?**\n",
        "1. **Performance:** NumPy operations are implemented in C, which makes them significantly faster than pure Python loops.  \n",
        "2. **Mathematical functions:** It has a rich collection of functions for linear algebra, Fourier transforms, random number generation, and more.  \n",
        "3. **Foundation of data science:** Popular libraries like Pandas, SciPy, Scikit-learn, and TensorFlow rely on NumPy internally.  \n",
        "4. **Vectorized operations:** NumPy eliminates the need for explicit loops, making code cleaner and faster.  \n",
        "\n",
        "In summary, NumPy is like the “engine” that powers data analysis, scientific computing, and machine learning in Python.  \n",
        "\n",
        "---\n",
        "\n",
        "## Q2. How does broadcasting work in NumPy?\n",
        "Broadcasting in NumPy refers to how arrays of different shapes are handled during arithmetic operations. Instead of throwing an error, NumPy automatically **expands** the smaller array to match the shape of the larger one.  \n",
        "\n",
        "For example, if we add a scalar (like `5`) to a 2D array, NumPy applies the operation element-wise without needing a loop. Similarly, a 1D row vector can be broadcasted to match the shape of a 2D matrix.  \n",
        "\n",
        "**Advantages of broadcasting:**\n",
        "- Saves time by avoiding manual looping.  \n",
        "- Reduces memory usage.  \n",
        "- Makes code more readable and mathematical.  \n",
        "\n",
        "In real-world analysis, broadcasting is often used in scaling, normalization, and applying formulas to entire datasets.  \n",
        "\n",
        "---\n",
        "\n",
        "## Q3. What is a Pandas DataFrame?\n",
        "A Pandas DataFrame is a **two-dimensional, labeled data structure** that resembles an Excel sheet or SQL table.  \n",
        "- Each row has a label (index), and each column has a name.  \n",
        "- Columns can store different data types (integers, floats, strings, dates, etc.).  \n",
        "\n",
        "**Why it is useful:**  \n",
        "- It allows powerful operations like filtering, grouping, merging, reshaping, and time-series analysis.  \n",
        "- Works seamlessly with NumPy arrays and visualization libraries.  \n",
        "\n",
        "In short, the DataFrame is the backbone of data analysis in Python, making raw datasets easy to clean, analyze, and visualize.  \n",
        "\n",
        "---\n",
        "\n",
        "## Q4. Explain the use of the `groupby()` method in Pandas.\n",
        "The `groupby()` method is one of the most powerful tools in Pandas. It splits data into groups based on one or more columns and then allows applying aggregation functions such as `sum()`, `mean()`, `count()`, etc.  \n",
        "\n",
        "**Steps involved in `groupby()`:**\n",
        "1. **Split** – Divide the dataset into groups based on some criteria.  \n",
        "2. **Apply** – Perform a function on each group (like calculating averages).  \n",
        "3. **Combine** – Merge the results back into a new DataFrame.  \n",
        "\n",
        "**Real-world example:** Grouping sales data by region or month to find total revenue.  \n",
        "\n",
        "This method is especially useful in exploratory data analysis, where summarizing large datasets is necessary.  \n",
        "\n",
        "---\n",
        "\n",
        "## Q5. Why is Seaborn preferred for statistical visualizations?\n",
        "Seaborn is a high-level visualization library built on top of Matplotlib, designed specifically for statistical data visualization.  \n",
        "\n",
        "**Why it is preferred:**\n",
        "- It comes with built-in functions for complex plots such as boxplots, violin plots, and heatmaps.  \n",
        "- It automatically applies attractive themes and color palettes, reducing the need for customization.  \n",
        "- It integrates tightly with Pandas DataFrames, making it easy to visualize tabular data directly.  \n",
        "- It provides advanced options for analyzing relationships (e.g., regression plots).  \n",
        "\n",
        "For data analysts, Seaborn is often the first choice when creating plots to understand trends, correlations, and distributions.  \n",
        "\n",
        "---\n",
        "\n",
        "## Q6. What are the differences between NumPy arrays and Python lists?\n",
        "While both NumPy arrays and Python lists can store collections of elements, they differ significantly:  \n",
        "\n",
        "1. **Performance:** NumPy arrays are faster due to optimized C implementations, whereas lists are slower.  \n",
        "2. **Data type:** Arrays are homogeneous (all elements of the same type), while lists can store mixed data types.  \n",
        "3. **Operations:** NumPy supports mathematical operations on entire arrays at once (vectorization), while lists require loops.  \n",
        "4. **Memory:** Arrays use less memory compared to lists.  \n",
        "5. **Dimensionality:** NumPy arrays can be multi-dimensional, while lists are typically one-dimensional unless nested.  \n",
        "\n",
        "In data analysis, NumPy arrays are always preferred over lists because they provide speed, flexibility, and mathematical power.  \n",
        "\n",
        "---\n",
        "\n",
        "## Q7. What is a heatmap, and when should it be used?\n",
        "A heatmap is a graphical representation of data where individual values are represented by different colors.  \n",
        "- It is often used to visualize correlation matrices, where the strength of relationships between variables is shown using color intensity.  \n",
        "- Heatmaps are also useful for spotting patterns, anomalies, and trends in large datasets.  \n",
        "\n",
        "**When to use a heatmap?**\n",
        "- To display relationships in a correlation matrix.  \n",
        "- To visualize intensity values (like population density across regions).  \n",
        "- To identify high or low clusters in large data tables.  \n",
        "\n",
        "Heatmaps are widely used in statistics, biology (gene expression), and business analytics (customer behavior).  \n",
        "\n",
        "---\n",
        "\n",
        "## Q8. What does the term “vectorized operation” mean in NumPy?\n",
        "Vectorized operations mean applying mathematical functions to entire arrays at once, without writing explicit loops.  \n",
        "\n",
        "Example:  \n",
        "If `a` and `b` are arrays, then `a + b` adds them element-wise, instead of looping over every element.  \n",
        "\n",
        "**Benefits of vectorization:**\n",
        "- Much faster due to C-level optimizations.  \n",
        "- Cleaner and more Pythonic code.  \n",
        "- Reduces errors compared to manual loops.  \n",
        "\n",
        "In practice, vectorized operations allow data scientists to process millions of records in seconds.  \n",
        "\n",
        "---\n",
        "\n",
        "## Q9. How does Matplotlib differ from Plotly?\n",
        "**Matplotlib:**\n",
        "- Creates static 2D plots.  \n",
        "- Requires more code for customization but offers great flexibility.  \n",
        "- Ideal for quick, research-oriented visualization.  \n",
        "\n",
        "**Plotly:**\n",
        "- Creates interactive and dynamic plots (zoom, hover, tooltips).  \n",
        "- Supports 3D visualizations and dashboards.  \n",
        "- More suited for presentations, reports, and web applications.  \n",
        "\n",
        "In short, Matplotlib is like the “workhorse” for technical plotting, while Plotly is the “presentation tool” for interactive data storytelling.  \n",
        "\n",
        "---\n",
        "\n",
        "## Q10. What is the significance of hierarchical indexing in Pandas?\n",
        "Hierarchical indexing (MultiIndex) allows multiple levels of row or column labels.  \n",
        "This is useful when working with high-dimensional data that must be represented in a 2D DataFrame.  \n",
        "\n",
        "**Advantages:**\n",
        "- Enables complex groupings and reshaping.  \n",
        "- Makes it easier to slice and analyze subgroups of data.  \n",
        "- Useful in time-series data with multiple keys (e.g., Year + Month + Day).  \n",
        "\n",
        "Hierarchical indexing makes Pandas highly flexible for working with datasets that naturally have multiple categories.  \n",
        "\n",
        "---\n",
        "\n",
        "## Q11. What is the role of Seaborn’s `pairplot()` function?\n",
        "Seaborn’s `pairplot()` automatically generates a grid of scatter plots between every pair of numeric columns in a dataset. Diagonal plots usually show histograms or density plots.  \n",
        "\n",
        "**Why useful?**\n",
        "- Helps in understanding correlations between variables.  \n",
        "- Quickly shows distributions and relationships in multivariate datasets.  \n",
        "- Commonly used in exploratory data analysis (EDA).  \n",
        "\n",
        "For example, in a dataset of house prices, a pairplot can reveal how variables like area, bedrooms, and price are related.  \n",
        "\n",
        "---\n",
        "\n",
        "## Q12. What is the purpose of the `describe()` function in Pandas?\n",
        "The `describe()` function provides a quick statistical summary of a dataset.  \n",
        "It includes:  \n",
        "- Count of values  \n",
        "- Mean and standard deviation  \n",
        "- Minimum and maximum values  \n",
        "- Quartiles (25%, 50%, 75%)  \n",
        "\n",
        "**Why important?**  \n",
        "It helps analysts understand the distribution and range of their data at a glance, which is essential before further analysis.  \n",
        "\n",
        "---\n",
        "\n",
        "## Q13. Why is handling missing data important in Pandas?\n",
        "Real-world datasets often contain missing or incomplete values. If not handled properly, they can:  \n",
        "- Lead to inaccurate results.  \n",
        "- Cause errors in models and visualizations.  \n",
        "- Reduce reliability of conclusions.  \n",
        "\n",
        "**Methods in Pandas:**  \n",
        "- `dropna()` to remove missing values.  \n",
        "- `fillna()` to replace with a default or statistical value (mean/median).  \n",
        "- Interpolation to estimate missing values.  \n",
        "\n",
        "Handling missing data ensures that the dataset remains clean and suitable for analysis.  \n",
        "\n",
        "---\n",
        "\n",
        "## Q14. What are the benefits of using Plotly for data visualization?\n",
        "Plotly provides several advantages over traditional plotting libraries:  \n",
        "1. Interactive visualizations with zoom, pan, and hover tooltips.  \n",
        "2. Support for advanced charts like 3D plots, geo-maps, and heatmaps.  \n",
        "3. Easy integration with web applications (Dash).  \n",
        "4. Professional-quality plots suitable for reports and dashboards.  \n",
        "\n",
        "Because of these features, Plotly is widely used for business intelligence and data storytelling.  \n",
        "\n",
        "---\n",
        "\n",
        "## Q15. How does NumPy handle multidimensional arrays?\n",
        "NumPy uses the `ndarray` object to handle arrays of N dimensions.  \n",
        "- Arrays can be reshaped into different dimensions (1D, 2D, 3D, etc.).  \n",
        "- Slicing and indexing allow efficient access to elements.  \n",
        "- Operations can be applied across dimensions simultaneously.  \n",
        "\n",
        "This feature makes NumPy suitable for tasks like image processing, where data is naturally multi-dimensional.  \n",
        "\n",
        "---\n",
        "\n",
        "## Q16. What is the role of Bokeh in data visualization?\n",
        "Bokeh is a Python library used to create **interactive visualizations** for modern web browsers.  \n",
        "- It provides interactive charts like line, bar, scatter, and heatmaps.  \n",
        "- Supports streaming and real-time data updates.  \n",
        "- Integrates well with web frameworks, making it suitable for dashboards.  \n",
        "\n",
        "Unlike Matplotlib, Bokeh focuses on interactivity, making it ideal for presentations and live reporting.  \n",
        "\n",
        "---\n",
        "\n",
        "## Q17. Explain the difference between `apply()` and `map()` in Pandas.\n",
        "- **map():** Works only on a Series. It applies a function element-wise to each value.  \n",
        "- **apply():** Works on both Series and DataFrames. It can apply functions along rows (`axis=1`) or columns (`axis=0`).  \n",
        "\n",
        "**Example:**  \n",
        "- `map()` is useful for simple element-wise operations (like converting all strings to uppercase).  \n",
        "- `apply()` is more powerful for applying custom functions across rows or columns.  \n",
        "\n",
        "---\n",
        "\n",
        "## Q18. What are some advanced features of NumPy?\n",
        "NumPy is not limited to basic arrays. Some advanced features include:  \n",
        "- **Broadcasting:** Automatic alignment of arrays with different shapes.  \n",
        "- **Vectorization:** Fast mathematical operations without loops.  \n",
        "- **Linear algebra functions:** Matrix multiplication, eigenvalues, etc.  \n",
        "- **Random module:** Random sampling and probability distributions.  \n",
        "- **Memory mapping:** Efficient handling of huge datasets.  \n",
        "\n",
        "These advanced features make NumPy a complete scientific computing package.  \n",
        "\n",
        "---\n",
        "\n",
        "## Q19. How does Pandas simplify time series analysis?\n",
        "Time series analysis is one of Pandas’ strongest areas.  \n",
        "- It provides built-in support for datetime objects.  \n",
        "- Functions like resampling, shifting, and rolling window calculations are easy to use.  \n",
        "- Frequency conversion (e.g., daily to monthly) can be done in one line.  \n",
        "- Built-in methods handle missing values in time series gracefully.  \n",
        "\n",
        "This makes Pandas a go-to tool for analyzing financial data, stock prices, and sensor data.  \n",
        "\n",
        "---\n",
        "\n",
        "## Q20. What is the role of a pivot table in Pandas?\n",
        "A pivot table allows summarizing and reshaping of data by organizing values into rows and columns with aggregation.  \n",
        "- It works similarly to Excel pivot tables.  \n",
        "- Can be used to calculate sums, averages, or counts across categories.  \n",
        "\n",
        "**Example:** Creating a pivot table of sales data by region and product category.  \n",
        "\n",
        "Pivot tables help uncover insights hidden in large datasets by presenting data in a clear, tabular form.  \n",
        "\n",
        "---\n",
        "\n",
        "## Q21. Why is NumPy’s array slicing faster than Python’s list slicing?\n",
        "- NumPy arrays are stored in **contiguous blocks of memory**, allowing efficient indexing.  \n",
        "- Slicing an array returns a **view** of the data, not a copy, so it’s instantaneous.  \n",
        "- Python lists store references to objects, requiring extra processing.  \n",
        "\n",
        "This is why NumPy is preferred for tasks that involve large-scale slicing and indexing.  \n",
        "\n",
        "---\n",
        "\n",
        "## Q22. What are some common use cases for Seaborn?\n",
        "Seaborn is widely used in data science for:  \n",
        "1. **Visualizing distributions** – histograms, kernel density plots.  \n",
        "2. **Comparing categories** – bar plots, box plots, violin plots.  \n",
        "3. **Correlation analysis** – heatmaps for correlation matrices.  \n",
        "4. **Exploratory Data Analysis (EDA)** – pairplots, jointplots.  \n",
        "5. **Regression analysis** – plotting linear relationships.  \n",
        "\n",
        "Seaborn provides high-level, elegant visualizations with minimal effort, making it a favorite among analysts.  \n",
        "\n",
        "---\n"
      ],
      "metadata": {
        "id": "tWfyCA-InsmM"
      }
    },
    {
      "cell_type": "markdown",
      "source": [
        "##Practical questions"
      ],
      "metadata": {
        "id": "iUROAtu3n4A8"
      }
    },
    {
      "cell_type": "markdown",
      "source": [
        "##1. How do you create a 2D NumPy array and calculate the sum of each row"
      ],
      "metadata": {
        "id": "PJw4_RfEo31j"
      }
    },
    {
      "cell_type": "code",
      "source": [
        "\n",
        "import numpy as np\n",
        "\n",
        "arr = np.array([[1, 2, 3],\n",
        "                [4, 5, 6],\n",
        "                [7, 8, 9]])\n",
        "\n",
        "row_sum = np.sum(arr, axis=1)\n",
        "print(\"2D Array:\\n\", arr)\n",
        "print(\"Row-wise Sum:\", row_sum)"
      ],
      "metadata": {
        "id": "0OcgXSLbn8OH"
      },
      "execution_count": null,
      "outputs": []
    },
    {
      "cell_type": "code",
      "source": [
        "#Q2. Write a Pandas script to find the mean of a specific column in a DataFrame.\n",
        "import pandas as pd\n",
        "\n",
        "data = {'Name': ['A', 'B', 'C'],\n",
        "        'Marks': [85, 90, 95]}\n",
        "df = pd.DataFrame(data)\n",
        "\n",
        "mean_value = df['Marks'].mean()\n",
        "print(\"Mean of Marks column:\", mean_value)"
      ],
      "metadata": {
        "colab": {
          "base_uri": "https://localhost:8080/"
        },
        "id": "aC0kcFVvpF_e",
        "outputId": "ce46280c-135f-4d47-d410-6b4e1227dd1f"
      },
      "execution_count": 1,
      "outputs": [
        {
          "output_type": "stream",
          "name": "stdout",
          "text": [
            "Mean of Marks column: 90.0\n"
          ]
        }
      ]
    },
    {
      "cell_type": "code",
      "source": [
        "#Q3. Create a scatter plot using Matplotlib.\n",
        "import matplotlib.pyplot as plt\n",
        "\n",
        "x = [5, 7, 8, 7, 2, 17]\n",
        "y = [99, 86, 87, 88, 100, 86]\n",
        "\n",
        "plt.scatter(x, y)\n",
        "plt.title(\"Scatter Plot\")\n",
        "plt.xlabel(\"X-axis\")\n",
        "plt.ylabel(\"Y-axis\")\n",
        "plt.show()"
      ],
      "metadata": {
        "colab": {
          "base_uri": "https://localhost:8080/",
          "height": 472
        },
        "id": "HorU67AupOZZ",
        "outputId": "b56fc163-38d8-4efe-c65f-9f27af6282a2"
      },
      "execution_count": 2,
      "outputs": [
        {
          "output_type": "display_data",
          "data": {
            "text/plain": [
              "<Figure size 640x480 with 1 Axes>"
            ],
            "image/png": "[encoded data removed]"
          },
          "metadata": {}
        }
      ]
    },
    {
      "cell_type": "code",
      "source": [
        "#Q4. How do you calculate the correlation matrix using Seaborn and visualize it with a heatmap?\n",
        "import seaborn as sns\n",
        "import pandas as pd\n",
        "\n",
        "data = {'A': [1, 2, 3, 4, 5],\n",
        "        'B': [5, 4, 3, 2, 1],\n",
        "        'C': [2, 3, 4, 5, 6]}\n",
        "df = pd.DataFrame(data)\n",
        "\n",
        "corr = df.corr()\n",
        "sns.heatmap(corr, annot=True, cmap=\"coolwarm\")"
      ],
      "metadata": {
        "colab": {
          "base_uri": "https://localhost:8080/",
          "height": 452
        },
        "id": "GwmN8Qw6pVl2",
        "outputId": "d47cc6f8-658d-40e5-a8c7-2a065b3d13a5"
      },
      "execution_count": 3,
      "outputs": [
        {
          "output_type": "execute_result",
          "data": {
            "text/plain": [
              "<Axes: >"
            ]
          },
          "metadata": {},
          "execution_count": 3
        },
        {
          "output_type": "display_data",
          "data": {
            "text/plain": [
              "<Figure size 640x480 with 2 Axes>"
            ],
            "image/png": "[encoded data removed]"
          },
          "metadata": {}
        }
      ]
    },
    {
      "cell_type": "code",
      "source": [
        "#Q5. Generate a bar plot using Plotly.\n",
        "import plotly.express as px\n",
        "\n",
        "data = {'Names': ['A', 'B', 'C'],\n",
        "        'Scores': [85, 90, 95]}\n",
        "fig = px.bar(data, x='Names', y='Scores', title=\"Bar Plot\")\n",
        "fig.show()"
      ],
      "metadata": {
        "colab": {
          "base_uri": "https://localhost:8080/",
          "height": 542
        },
        "id": "xVJlARTGpfl4",
        "outputId": "acf40c62-987b-49d9-be41-74ed3f433349"
      },
      "execution_count": 5,
      "outputs": [
        {
          "output_type": "display_data",
          "data": {
            "text/html": [
              "<html>\n",
              "<head><meta charset=\"utf-8\" /></head>\n",
              "<body>\n",
              "    <div>            <script src=\"https://cdnjs.cloudflare.com/ajax/libs/mathjax/2.7.5/MathJax.js?config=TeX-AMS-MML_SVG\"></script><script type=\"text/javascript\">if (window.MathJax && window.MathJax.Hub && window.MathJax.Hub.Config) {window.MathJax.Hub.Config({SVG: {font: \"STIX-Web\"}});}</script>                <script type=\"text/javascript\">window.PlotlyConfig = {MathJaxConfig: 'local'};</script>\n",
              "        <script charset=\"utf-8\" src=\"https://cdn.plot.ly/plotly-2.35.2.min.js\"></script>                <div id=\"cceb69ad-acb6-4a15-9f85-70741a1ceb15\" class=\"plotly-graph-div\" style=\"height:525px; width:100%;\"></div>            <script type=\"text/javascript\">                                    window.PLOTLYENV=window.PLOTLYENV || {};                                    if (document.getElementById(\"cceb69ad-acb6-4a15-9f85-70741a1ceb15\")) {                    Plotly.newPlot(                        \"cceb69ad-acb6-4a15-9f85-70741a1ceb15\",                        [{\"alignmentgroup\":\"True\",\"hovertemplate\":\"Names=%{x}\\u003cbr\\u003eScores=%{y}\\u003cextra\\u003e\\u003c\\u002fextra\\u003e\",\"legendgroup\":\"\",\"marker\":{\"color\":\"#636efa\",\"pattern\":{\"shape\":\"\"}},\"name\":\"\",\"offsetgroup\":\"\",\"orientation\":\"v\",\"showlegend\":false,\"textposition\":\"auto\",\"x\":[\"A\",\"B\",\"C\"],\"xaxis\":\"x\",\"y\":[85,90,95],\"yaxis\":\"y\",\"type\":\"bar\"}],                        {\"template\":{\"data\":{\"histogram2dcontour\":[{\"type\":\"histogram2dcontour\",\"colorbar\":{\"outlinewidth\":0,\"ticks\":\"\"},\"colorscale\":[[0.0,\"#0d0887\"],[0.1111111111111111,\"#46039f\"],[0.2222222222222222,\"#7201a8\"],[0.3333333333333333,\"#9c179e\"],[0.4444444444444444,\"#bd3786\"],[0.5555555555555556,\"#d8576b\"],[0.6666666666666666,\"#ed7953\"],[0.7777777777777778,\"#fb9f3a\"],[0.8888888888888888,\"#fdca26\"],[1.0,\"#f0f921\"]]}],\"choropleth\":[{\"type\":\"choropleth\",\"colorbar\":{\"outlinewidth\":0,\"ticks\":\"\"}}],\"histogram2d\":[{\"type\":\"histogram2d\",\"colorbar\":{\"outlinewidth\":0,\"ticks\":\"\"},\"colorscale\":[[0.0,\"#0d0887\"],[0.1111111111111111,\"#46039f\"],[0.2222222222222222,\"#7201a8\"],[0.3333333333333333,\"#9c179e\"],[0.4444444444444444,\"#bd3786\"],[0.5555555555555556,\"#d8576b\"],[0.6666666666666666,\"#ed7953\"],[0.7777777777777778,\"#fb9f3a\"],[0.8888888888888888,\"#fdca26\"],[1.0,\"#f0f921\"]]}],\"heatmap\":[{\"type\":\"heatmap\",\"colorbar\":{\"outlinewidth\":0,\"ticks\":\"\"},\"colorscale\":[[0.0,\"#0d0887\"],[0.1111111111111111,\"#46039f\"],[0.2222222222222222,\"#7201a8\"],[0.3333333333333333,\"#9c179e\"],[0.4444444444444444,\"#bd3786\"],[0.5555555555555556,\"#d8576b\"],[0.6666666666666666,\"#ed7953\"],[0.7777777777777778,\"#fb9f3a\"],[0.8888888888888888,\"#fdca26\"],[1.0,\"#f0f921\"]]}],\"heatmapgl\":[{\"type\":\"heatmapgl\",\"colorbar\":{\"outlinewidth\":0,\"ticks\":\"\"},\"colorscale\":[[0.0,\"#0d0887\"],[0.1111111111111111,\"#46039f\"],[0.2222222222222222,\"#7201a8\"],[0.3333333333333333,\"#9c179e\"],[0.4444444444444444,\"#bd3786\"],[0.5555555555555556,\"#d8576b\"],[0.6666666666666666,\"#ed7953\"],[0.7777777777777778,\"#fb9f3a\"],[0.8888888888888888,\"#fdca26\"],[1.0,\"#f0f921\"]]}],\"contourcarpet\":[{\"type\":\"contourcarpet\",\"colorbar\":{\"outlinewidth\":0,\"ticks\":\"\"}}],\"contour\":[{\"type\":\"contour\",\"colorbar\":{\"outlinewidth\":0,\"ticks\":\"\"},\"colorscale\":[[0.0,\"#0d0887\"],[0.1111111111111111,\"#46039f\"],[0.2222222222222222,\"#7201a8\"],[0.3333333333333333,\"#9c179e\"],[0.4444444444444444,\"#bd3786\"],[0.5555555555555556,\"#d8576b\"],[0.6666666666666666,\"#ed7953\"],[0.7777777777777778,\"#fb9f3a\"],[0.8888888888888888,\"#fdca26\"],[1.0,\"#f0f921\"]]}],\"surface\":[{\"type\":\"surface\",\"colorbar\":{\"outlinewidth\":0,\"ticks\":\"\"},\"colorscale\":[[0.0,\"#0d0887\"],[0.1111111111111111,\"#46039f\"],[0.2222222222222222,\"#7201a8\"],[0.3333333333333333,\"#9c179e\"],[0.4444444444444444,\"#bd3786\"],[0.5555555555555556,\"#d8576b\"],[0.6666666666666666,\"#ed7953\"],[0.7777777777777778,\"#fb9f3a\"],[0.8888888888888888,\"#fdca26\"],[1.0,\"#f0f921\"]]}],\"mesh3d\":[{\"type\":\"mesh3d\",\"colorbar\":{\"outlinewidth\":0,\"ticks\":\"\"}}],\"scatter\":[{\"fillpattern\":{\"fillmode\":\"overlay\",\"size\":10,\"solidity\":0.2},\"type\":\"scatter\"}],\"parcoords\":[{\"type\":\"parcoords\",\"line\":{\"colorbar\":{\"outlinewidth\":0,\"ticks\":\"\"}}}],\"scatterpolargl\":[{\"type\":\"scatterpolargl\",\"marker\":{\"colorbar\":{\"outlinewidth\":0,\"ticks\":\"\"}}}],\"bar\":[{\"error_x\":{\"color\":\"#2a3f5f\"},\"error_y\":{\"color\":\"#2a3f5f\"},\"marker\":{\"line\":{\"color\":\"#E5ECF6\",\"width\":0.5},\"pattern\":{\"fillmode\":\"overlay\",\"size\":10,\"solidity\":0.2}},\"type\":\"bar\"}],\"scattergeo\":[{\"type\":\"scattergeo\",\"marker\":{\"colorbar\":{\"outlinewidth\":0,\"ticks\":\"\"}}}],\"scatterpolar\":[{\"type\":\"scatterpolar\",\"marker\":{\"colorbar\":{\"outlinewidth\":0,\"ticks\":\"\"}}}],\"histogram\":[{\"marker\":{\"pattern\":{\"fillmode\":\"overlay\",\"size\":10,\"solidity\":0.2}},\"type\":\"histogram\"}],\"scattergl\":[{\"type\":\"scattergl\",\"marker\":{\"colorbar\":{\"outlinewidth\":0,\"ticks\":\"\"}}}],\"scatter3d\":[{\"type\":\"scatter3d\",\"line\":{\"colorbar\":{\"outlinewidth\":0,\"ticks\":\"\"}},\"marker\":{\"colorbar\":{\"outlinewidth\":0,\"ticks\":\"\"}}}],\"scattermapbox\":[{\"type\":\"scattermapbox\",\"marker\":{\"colorbar\":{\"outlinewidth\":0,\"ticks\":\"\"}}}],\"scatterternary\":[{\"type\":\"scatterternary\",\"marker\":{\"colorbar\":{\"outlinewidth\":0,\"ticks\":\"\"}}}],\"scattercarpet\":[{\"type\":\"scattercarpet\",\"marker\":{\"colorbar\":{\"outlinewidth\":0,\"ticks\":\"\"}}}],\"carpet\":[{\"aaxis\":{\"endlinecolor\":\"#2a3f5f\",\"gridcolor\":\"white\",\"linecolor\":\"white\",\"minorgridcolor\":\"white\",\"startlinecolor\":\"#2a3f5f\"},\"baxis\":{\"endlinecolor\":\"#2a3f5f\",\"gridcolor\":\"white\",\"linecolor\":\"white\",\"minorgridcolor\":\"white\",\"startlinecolor\":\"#2a3f5f\"},\"type\":\"carpet\"}],\"table\":[{\"cells\":{\"fill\":{\"color\":\"#EBF0F8\"},\"line\":{\"color\":\"white\"}},\"header\":{\"fill\":{\"color\":\"#C8D4E3\"},\"line\":{\"color\":\"white\"}},\"type\":\"table\"}],\"barpolar\":[{\"marker\":{\"line\":{\"color\":\"#E5ECF6\",\"width\":0.5},\"pattern\":{\"fillmode\":\"overlay\",\"size\":10,\"solidity\":0.2}},\"type\":\"barpolar\"}],\"pie\":[{\"automargin\":true,\"type\":\"pie\"}]},\"layout\":{\"autotypenumbers\":\"strict\",\"colorway\":[\"#636efa\",\"#EF553B\",\"#00cc96\",\"#ab63fa\",\"#FFA15A\",\"#19d3f3\",\"#FF6692\",\"#B6E880\",\"#FF97FF\",\"#FECB52\"],\"font\":{\"color\":\"#2a3f5f\"},\"hovermode\":\"closest\",\"hoverlabel\":{\"align\":\"left\"},\"paper_bgcolor\":\"white\",\"plot_bgcolor\":\"#E5ECF6\",\"polar\":{\"bgcolor\":\"#E5ECF6\",\"angularaxis\":{\"gridcolor\":\"white\",\"linecolor\":\"white\",\"ticks\":\"\"},\"radialaxis\":{\"gridcolor\":\"white\",\"linecolor\":\"white\",\"ticks\":\"\"}},\"ternary\":{\"bgcolor\":\"#E5ECF6\",\"aaxis\":{\"gridcolor\":\"white\",\"linecolor\":\"white\",\"ticks\":\"\"},\"baxis\":{\"gridcolor\":\"white\",\"linecolor\":\"white\",\"ticks\":\"\"},\"caxis\":{\"gridcolor\":\"white\",\"linecolor\":\"white\",\"ticks\":\"\"}},\"coloraxis\":{\"colorbar\":{\"outlinewidth\":0,\"ticks\":\"\"}},\"colorscale\":{\"sequential\":[[0.0,\"#0d0887\"],[0.1111111111111111,\"#46039f\"],[0.2222222222222222,\"#7201a8\"],[0.3333333333333333,\"#9c179e\"],[0.4444444444444444,\"#bd3786\"],[0.5555555555555556,\"#d8576b\"],[0.6666666666666666,\"#ed7953\"],[0.7777777777777778,\"#fb9f3a\"],[0.8888888888888888,\"#fdca26\"],[1.0,\"#f0f921\"]],\"sequentialminus\":[[0.0,\"#0d0887\"],[0.1111111111111111,\"#46039f\"],[0.2222222222222222,\"#7201a8\"],[0.3333333333333333,\"#9c179e\"],[0.4444444444444444,\"#bd3786\"],[0.5555555555555556,\"#d8576b\"],[0.6666666666666666,\"#ed7953\"],[0.7777777777777778,\"#fb9f3a\"],[0.8888888888888888,\"#fdca26\"],[1.0,\"#f0f921\"]],\"diverging\":[[0,\"#8e0152\"],[0.1,\"#c51b7d\"],[0.2,\"#de77ae\"],[0.3,\"#f1b6da\"],[0.4,\"#fde0ef\"],[0.5,\"#f7f7f7\"],[0.6,\"#e6f5d0\"],[0.7,\"#b8e186\"],[0.8,\"#7fbc41\"],[0.9,\"#4d9221\"],[1,\"#276419\"]]},\"xaxis\":{\"gridcolor\":\"white\",\"linecolor\":\"white\",\"ticks\":\"\",\"title\":{\"standoff\":15},\"zerolinecolor\":\"white\",\"automargin\":true,\"zerolinewidth\":2},\"yaxis\":{\"gridcolor\":\"white\",\"linecolor\":\"white\",\"ticks\":\"\",\"title\":{\"standoff\":15},\"zerolinecolor\":\"white\",\"automargin\":true,\"zerolinewidth\":2},\"scene\":{\"xaxis\":{\"backgroundcolor\":\"#E5ECF6\",\"gridcolor\":\"white\",\"linecolor\":\"white\",\"showbackground\":true,\"ticks\":\"\",\"zerolinecolor\":\"white\",\"gridwidth\":2},\"yaxis\":{\"backgroundcolor\":\"#E5ECF6\",\"gridcolor\":\"white\",\"linecolor\":\"white\",\"showbackground\":true,\"ticks\":\"\",\"zerolinecolor\":\"white\",\"gridwidth\":2},\"zaxis\":{\"backgroundcolor\":\"#E5ECF6\",\"gridcolor\":\"white\",\"linecolor\":\"white\",\"showbackground\":true,\"ticks\":\"\",\"zerolinecolor\":\"white\",\"gridwidth\":2}},\"shapedefaults\":{\"line\":{\"color\":\"#2a3f5f\"}},\"annotationdefaults\":{\"arrowcolor\":\"#2a3f5f\",\"arrowhead\":0,\"arrowwidth\":1},\"geo\":{\"bgcolor\":\"white\",\"landcolor\":\"#E5ECF6\",\"subunitcolor\":\"white\",\"showland\":true,\"showlakes\":true,\"lakecolor\":\"white\"},\"title\":{\"x\":0.05},\"mapbox\":{\"style\":\"light\"}}},\"xaxis\":{\"anchor\":\"y\",\"domain\":[0.0,1.0],\"title\":{\"text\":\"Names\"}},\"yaxis\":{\"anchor\":\"x\",\"domain\":[0.0,1.0],\"title\":{\"text\":\"Scores\"}},\"legend\":{\"tracegroupgap\":0},\"title\":{\"text\":\"Bar Plot\"},\"barmode\":\"relative\"},                        {\"responsive\": true}                    ).then(function(){\n",
              "                            \n",
              "var gd = document.getElementById('cceb69ad-acb6-4a15-9f85-70741a1ceb15');\n",
              "var x = new MutationObserver(function (mutations, observer) {{\n",
              "        var display = window.getComputedStyle(gd).display;\n",
              "        if (!display || display === 'none') {{\n",
              "            console.log([gd, 'removed!']);\n",
              "            Plotly.purge(gd);\n",
              "            observer.disconnect();\n",
              "        }}\n",
              "}});\n",
              "\n",
              "// Listen for the removal of the full notebook cells\n",
              "var notebookContainer = gd.closest('#notebook-container');\n",
              "if (notebookContainer) {{\n",
              "    x.observe(notebookContainer, {childList: true});\n",
              "}}\n",
              "\n",
              "// Listen for the clearing of the current output cell\n",
              "var outputEl = gd.closest('.output');\n",
              "if (outputEl) {{\n",
              "    x.observe(outputEl, {childList: true});\n",
              "}}\n",
              "\n",
              "                        })                };                            </script>        </div>\n",
              "</body>\n",
              "</html>"
            ]
          },
          "metadata": {}
        }
      ]
    },
    {
      "cell_type": "code",
      "source": [
        "#Q6. Create a DataFrame and add a new column based on an existing column.\n",
        "import pandas as pd\n",
        "\n",
        "df = pd.DataFrame({'Marks': [50, 60, 70]})\n",
        "df['Percentage'] = df['Marks'] / 100 * 100\n",
        "print(df)"
      ],
      "metadata": {
        "colab": {
          "base_uri": "https://localhost:8080/"
        },
        "id": "2UHTtb8Op6dJ",
        "outputId": "d24f3a6c-cf33-4657-da6e-423bfd319c30"
      },
      "execution_count": 6,
      "outputs": [
        {
          "output_type": "stream",
          "name": "stdout",
          "text": [
            "   Marks  Percentage\n",
            "0     50        50.0\n",
            "1     60        60.0\n",
            "2     70        70.0\n"
          ]
        }
      ]
    },
    {
      "cell_type": "code",
      "source": [
        "#Q7. Write a program to perform element-wise multiplication of two NumPy arrays.\n",
        "import numpy as np\n",
        "\n",
        "a = np.array([1, 2, 3])\n",
        "b = np.array([4, 5, 6])\n",
        "\n",
        "result = a * b\n",
        "print(\"Element-wise Multiplication:\", result)"
      ],
      "metadata": {
        "colab": {
          "base_uri": "https://localhost:8080/"
        },
        "id": "70tbAFK9p_-L",
        "outputId": "0fc1d8b0-1ec8-4b39-935b-af557c092626"
      },
      "execution_count": 7,
      "outputs": [
        {
          "output_type": "stream",
          "name": "stdout",
          "text": [
            "Element-wise Multiplication: [ 4 10 18]\n"
          ]
        }
      ]
    },
    {
      "cell_type": "code",
      "source": [
        "#Q8. Create a line plot with multiple lines using Matplotlib.\n",
        "import matplotlib.pyplot as plt\n",
        "\n",
        "x = [1, 2, 3, 4]\n",
        "y1 = [2, 4, 6, 8]\n",
        "y2 = [1, 3, 5, 7]\n",
        "\n",
        "plt.plot(x, y1, label=\"Line 1\")\n",
        "plt.plot(x, y2, label=\"Line 2\")\n",
        "plt.title(\"Line Plot with Multiple Lines\")\n",
        "plt.legend()\n",
        "plt.show()"
      ],
      "metadata": {
        "colab": {
          "base_uri": "https://localhost:8080/",
          "height": 452
        },
        "id": "WvTlrGl-qSBr",
        "outputId": "55eb5c86-e62d-484d-c076-540667afaac5"
      },
      "execution_count": 8,
      "outputs": [
        {
          "output_type": "display_data",
          "data": {
            "text/plain": [
              "<Figure size 640x480 with 1 Axes>"
            ],
            "image/png": "[encoded data removed]"
          },
          "metadata": {}
        }
      ]
    },
    {
      "cell_type": "code",
      "source": [
        "#Q9. Generate a Pandas DataFrame and filter rows where a column value is greater than a threshold.\n",
        "import pandas as pd\n",
        "\n",
        "df = pd.DataFrame({'Name': ['A', 'B', 'C'],\n",
        "                   'Score': [45, 85, 75]})\n",
        "\n",
        "filtered = df[df['Score'] > 70]\n",
        "print(filtered)"
      ],
      "metadata": {
        "colab": {
          "base_uri": "https://localhost:8080/"
        },
        "id": "xycKqNH8qZwD",
        "outputId": "b1cb6949-9998-48c0-e5da-8f7598b5ffb4"
      },
      "execution_count": 9,
      "outputs": [
        {
          "output_type": "stream",
          "name": "stdout",
          "text": [
            "  Name  Score\n",
            "1    B     85\n",
            "2    C     75\n"
          ]
        }
      ]
    },
    {
      "cell_type": "code",
      "source": [
        "#Q10. Create a histogram using Seaborn to visualize a distribution.\n",
        "import seaborn as sns\n",
        "import matplotlib.pyplot as plt\n",
        "\n",
        "data = [10, 20, 20, 30, 40, 40, 50]\n",
        "sns.histplot(data, bins=5, kde=True)\n",
        "plt.show()"
      ],
      "metadata": {
        "colab": {
          "base_uri": "https://localhost:8080/",
          "height": 430
        },
        "id": "8cilrWmdqhrp",
        "outputId": "857bd258-4a97-4cfd-a292-8a383d49dd9f"
      },
      "execution_count": 11,
      "outputs": [
        {
          "output_type": "display_data",
          "data": {
            "text/plain": [
              "<Figure size 640x480 with 1 Axes>"
            ],
            "image/png": "[encoded data removed]"
          },
          "metadata": {}
        }
      ]
    },
    {
      "cell_type": "code",
      "source": [
        "#Q11. Perform matrix multiplication using NumPy.\n",
        "import numpy as np\n",
        "\n",
        "a = np.array([[1, 2],\n",
        "              [3, 4]])\n",
        "b = np.array([[5, 6],\n",
        "              [7, 8]])\n",
        "\n",
        "result = np.dot(a, b)\n",
        "print(\"Matrix Multiplication:\\n\", result)"
      ],
      "metadata": {
        "colab": {
          "base_uri": "https://localhost:8080/"
        },
        "id": "n7dbuXfOqoSt",
        "outputId": "db57f04d-04cf-482b-ccbd-d063dbb72ae5"
      },
      "execution_count": 12,
      "outputs": [
        {
          "output_type": "stream",
          "name": "stdout",
          "text": [
            "Matrix Multiplication:\n",
            " [[19 22]\n",
            " [43 50]]\n"
          ]
        }
      ]
    },
    {
      "cell_type": "code",
      "source": [
        "#Q12. Use Pandas to load a CSV file and display its first 5 rows.\n",
        "import pandas as pd\n",
        "\n",
        "\n",
        "data = {'Name': ['A', 'B', 'C'], 'Marks': [85, 90, 95]}\n",
        "df = pd.DataFrame(data)\n",
        "df.to_csv(\"data.csv\", index=False)\n",
        "\n",
        "\n",
        "df_loaded = pd.read_csv(\"data.csv\")\n",
        "print(df_loaded.head())"
      ],
      "metadata": {
        "colab": {
          "base_uri": "https://localhost:8080/"
        },
        "id": "lGHNrLS8qzHM",
        "outputId": "8c6931a3-ca84-452d-d4ef-d336c4e2977a"
      },
      "execution_count": 15,
      "outputs": [
        {
          "output_type": "stream",
          "name": "stdout",
          "text": [
            "  Name  Marks\n",
            "0    A     85\n",
            "1    B     90\n",
            "2    C     95\n"
          ]
        }
      ]
    },
    {
      "cell_type": "code",
      "source": [
        "#Q13. Create a 3D scatter plot using Plotly.\n",
        "import plotly.express as px\n",
        "import pandas as pd\n",
        "\n",
        "df = pd.DataFrame({\n",
        "    'x': [1, 2, 3, 4, 5],\n",
        "    'y': [10, 11, 12, 13, 14],\n",
        "    'z': [5, 6, 7, 8, 9]\n",
        "})\n",
        "\n",
        "fig = px.scatter_3d(df, x='x', y='y', z='z',\n",
        "                    title=\"3D Scatter Plot\")\n",
        "fig.show()\n"
      ],
      "metadata": {
        "colab": {
          "base_uri": "https://localhost:8080/",
          "height": 542
        },
        "id": "Cb5J9s1FrP7j",
        "outputId": "bba90a93-0a4e-4b7c-e668-cedb1de99bf8"
      },
      "execution_count": 16,
      "outputs": [
        {
          "output_type": "display_data",
          "data": {
            "text/html": [
              "<html>\n",
              "<head><meta charset=\"utf-8\" /></head>\n",
              "<body>\n",
              "    <div>            <script src=\"https://cdnjs.cloudflare.com/ajax/libs/mathjax/2.7.5/MathJax.js?config=TeX-AMS-MML_SVG\"></script><script type=\"text/javascript\">if (window.MathJax && window.MathJax.Hub && window.MathJax.Hub.Config) {window.MathJax.Hub.Config({SVG: {font: \"STIX-Web\"}});}</script>                <script type=\"text/javascript\">window.PlotlyConfig = {MathJaxConfig: 'local'};</script>\n",
              "        <script charset=\"utf-8\" src=\"https://cdn.plot.ly/plotly-2.35.2.min.js\"></script>                <div id=\"72e7a995-b889-4983-b283-04228a5e06fe\" class=\"plotly-graph-div\" style=\"height:525px; width:100%;\"></div>            <script type=\"text/javascript\">                                    window.PLOTLYENV=window.PLOTLYENV || {};                                    if (document.getElementById(\"72e7a995-b889-4983-b283-04228a5e06fe\")) {                    Plotly.newPlot(                        \"72e7a995-b889-4983-b283-04228a5e06fe\",                        [{\"hovertemplate\":\"x=%{x}\\u003cbr\\u003ey=%{y}\\u003cbr\\u003ez=%{z}\\u003cextra\\u003e\\u003c\\u002fextra\\u003e\",\"legendgroup\":\"\",\"marker\":{\"color\":\"#636efa\",\"symbol\":\"circle\"},\"mode\":\"markers\",\"name\":\"\",\"scene\":\"scene\",\"showlegend\":false,\"x\":[1,2,3,4,5],\"y\":[10,11,12,13,14],\"z\":[5,6,7,8,9],\"type\":\"scatter3d\"}],                        {\"template\":{\"data\":{\"histogram2dcontour\":[{\"type\":\"histogram2dcontour\",\"colorbar\":{\"outlinewidth\":0,\"ticks\":\"\"},\"colorscale\":[[0.0,\"#0d0887\"],[0.1111111111111111,\"#46039f\"],[0.2222222222222222,\"#7201a8\"],[0.3333333333333333,\"#9c179e\"],[0.4444444444444444,\"#bd3786\"],[0.5555555555555556,\"#d8576b\"],[0.6666666666666666,\"#ed7953\"],[0.7777777777777778,\"#fb9f3a\"],[0.8888888888888888,\"#fdca26\"],[1.0,\"#f0f921\"]]}],\"choropleth\":[{\"type\":\"choropleth\",\"colorbar\":{\"outlinewidth\":0,\"ticks\":\"\"}}],\"histogram2d\":[{\"type\":\"histogram2d\",\"colorbar\":{\"outlinewidth\":0,\"ticks\":\"\"},\"colorscale\":[[0.0,\"#0d0887\"],[0.1111111111111111,\"#46039f\"],[0.2222222222222222,\"#7201a8\"],[0.3333333333333333,\"#9c179e\"],[0.4444444444444444,\"#bd3786\"],[0.5555555555555556,\"#d8576b\"],[0.6666666666666666,\"#ed7953\"],[0.7777777777777778,\"#fb9f3a\"],[0.8888888888888888,\"#fdca26\"],[1.0,\"#f0f921\"]]}],\"heatmap\":[{\"type\":\"heatmap\",\"colorbar\":{\"outlinewidth\":0,\"ticks\":\"\"},\"colorscale\":[[0.0,\"#0d0887\"],[0.1111111111111111,\"#46039f\"],[0.2222222222222222,\"#7201a8\"],[0.3333333333333333,\"#9c179e\"],[0.4444444444444444,\"#bd3786\"],[0.5555555555555556,\"#d8576b\"],[0.6666666666666666,\"#ed7953\"],[0.7777777777777778,\"#fb9f3a\"],[0.8888888888888888,\"#fdca26\"],[1.0,\"#f0f921\"]]}],\"heatmapgl\":[{\"type\":\"heatmapgl\",\"colorbar\":{\"outlinewidth\":0,\"ticks\":\"\"},\"colorscale\":[[0.0,\"#0d0887\"],[0.1111111111111111,\"#46039f\"],[0.2222222222222222,\"#7201a8\"],[0.3333333333333333,\"#9c179e\"],[0.4444444444444444,\"#bd3786\"],[0.5555555555555556,\"#d8576b\"],[0.6666666666666666,\"#ed7953\"],[0.7777777777777778,\"#fb9f3a\"],[0.8888888888888888,\"#fdca26\"],[1.0,\"#f0f921\"]]}],\"contourcarpet\":[{\"type\":\"contourcarpet\",\"colorbar\":{\"outlinewidth\":0,\"ticks\":\"\"}}],\"contour\":[{\"type\":\"contour\",\"colorbar\":{\"outlinewidth\":0,\"ticks\":\"\"},\"colorscale\":[[0.0,\"#0d0887\"],[0.1111111111111111,\"#46039f\"],[0.2222222222222222,\"#7201a8\"],[0.3333333333333333,\"#9c179e\"],[0.4444444444444444,\"#bd3786\"],[0.5555555555555556,\"#d8576b\"],[0.6666666666666666,\"#ed7953\"],[0.7777777777777778,\"#fb9f3a\"],[0.8888888888888888,\"#fdca26\"],[1.0,\"#f0f921\"]]}],\"surface\":[{\"type\":\"surface\",\"colorbar\":{\"outlinewidth\":0,\"ticks\":\"\"},\"colorscale\":[[0.0,\"#0d0887\"],[0.1111111111111111,\"#46039f\"],[0.2222222222222222,\"#7201a8\"],[0.3333333333333333,\"#9c179e\"],[0.4444444444444444,\"#bd3786\"],[0.5555555555555556,\"#d8576b\"],[0.6666666666666666,\"#ed7953\"],[0.7777777777777778,\"#fb9f3a\"],[0.8888888888888888,\"#fdca26\"],[1.0,\"#f0f921\"]]}],\"mesh3d\":[{\"type\":\"mesh3d\",\"colorbar\":{\"outlinewidth\":0,\"ticks\":\"\"}}],\"scatter\":[{\"fillpattern\":{\"fillmode\":\"overlay\",\"size\":10,\"solidity\":0.2},\"type\":\"scatter\"}],\"parcoords\":[{\"type\":\"parcoords\",\"line\":{\"colorbar\":{\"outlinewidth\":0,\"ticks\":\"\"}}}],\"scatterpolargl\":[{\"type\":\"scatterpolargl\",\"marker\":{\"colorbar\":{\"outlinewidth\":0,\"ticks\":\"\"}}}],\"bar\":[{\"error_x\":{\"color\":\"#2a3f5f\"},\"error_y\":{\"color\":\"#2a3f5f\"},\"marker\":{\"line\":{\"color\":\"#E5ECF6\",\"width\":0.5},\"pattern\":{\"fillmode\":\"overlay\",\"size\":10,\"solidity\":0.2}},\"type\":\"bar\"}],\"scattergeo\":[{\"type\":\"scattergeo\",\"marker\":{\"colorbar\":{\"outlinewidth\":0,\"ticks\":\"\"}}}],\"scatterpolar\":[{\"type\":\"scatterpolar\",\"marker\":{\"colorbar\":{\"outlinewidth\":0,\"ticks\":\"\"}}}],\"histogram\":[{\"marker\":{\"pattern\":{\"fillmode\":\"overlay\",\"size\":10,\"solidity\":0.2}},\"type\":\"histogram\"}],\"scattergl\":[{\"type\":\"scattergl\",\"marker\":{\"colorbar\":{\"outlinewidth\":0,\"ticks\":\"\"}}}],\"scatter3d\":[{\"type\":\"scatter3d\",\"line\":{\"colorbar\":{\"outlinewidth\":0,\"ticks\":\"\"}},\"marker\":{\"colorbar\":{\"outlinewidth\":0,\"ticks\":\"\"}}}],\"scattermapbox\":[{\"type\":\"scattermapbox\",\"marker\":{\"colorbar\":{\"outlinewidth\":0,\"ticks\":\"\"}}}],\"scatterternary\":[{\"type\":\"scatterternary\",\"marker\":{\"colorbar\":{\"outlinewidth\":0,\"ticks\":\"\"}}}],\"scattercarpet\":[{\"type\":\"scattercarpet\",\"marker\":{\"colorbar\":{\"outlinewidth\":0,\"ticks\":\"\"}}}],\"carpet\":[{\"aaxis\":{\"endlinecolor\":\"#2a3f5f\",\"gridcolor\":\"white\",\"linecolor\":\"white\",\"minorgridcolor\":\"white\",\"startlinecolor\":\"#2a3f5f\"},\"baxis\":{\"endlinecolor\":\"#2a3f5f\",\"gridcolor\":\"white\",\"linecolor\":\"white\",\"minorgridcolor\":\"white\",\"startlinecolor\":\"#2a3f5f\"},\"type\":\"carpet\"}],\"table\":[{\"cells\":{\"fill\":{\"color\":\"#EBF0F8\"},\"line\":{\"color\":\"white\"}},\"header\":{\"fill\":{\"color\":\"#C8D4E3\"},\"line\":{\"color\":\"white\"}},\"type\":\"table\"}],\"barpolar\":[{\"marker\":{\"line\":{\"color\":\"#E5ECF6\",\"width\":0.5},\"pattern\":{\"fillmode\":\"overlay\",\"size\":10,\"solidity\":0.2}},\"type\":\"barpolar\"}],\"pie\":[{\"automargin\":true,\"type\":\"pie\"}]},\"layout\":{\"autotypenumbers\":\"strict\",\"colorway\":[\"#636efa\",\"#EF553B\",\"#00cc96\",\"#ab63fa\",\"#FFA15A\",\"#19d3f3\",\"#FF6692\",\"#B6E880\",\"#FF97FF\",\"#FECB52\"],\"font\":{\"color\":\"#2a3f5f\"},\"hovermode\":\"closest\",\"hoverlabel\":{\"align\":\"left\"},\"paper_bgcolor\":\"white\",\"plot_bgcolor\":\"#E5ECF6\",\"polar\":{\"bgcolor\":\"#E5ECF6\",\"angularaxis\":{\"gridcolor\":\"white\",\"linecolor\":\"white\",\"ticks\":\"\"},\"radialaxis\":{\"gridcolor\":\"white\",\"linecolor\":\"white\",\"ticks\":\"\"}},\"ternary\":{\"bgcolor\":\"#E5ECF6\",\"aaxis\":{\"gridcolor\":\"white\",\"linecolor\":\"white\",\"ticks\":\"\"},\"baxis\":{\"gridcolor\":\"white\",\"linecolor\":\"white\",\"ticks\":\"\"},\"caxis\":{\"gridcolor\":\"white\",\"linecolor\":\"white\",\"ticks\":\"\"}},\"coloraxis\":{\"colorbar\":{\"outlinewidth\":0,\"ticks\":\"\"}},\"colorscale\":{\"sequential\":[[0.0,\"#0d0887\"],[0.1111111111111111,\"#46039f\"],[0.2222222222222222,\"#7201a8\"],[0.3333333333333333,\"#9c179e\"],[0.4444444444444444,\"#bd3786\"],[0.5555555555555556,\"#d8576b\"],[0.6666666666666666,\"#ed7953\"],[0.7777777777777778,\"#fb9f3a\"],[0.8888888888888888,\"#fdca26\"],[1.0,\"#f0f921\"]],\"sequentialminus\":[[0.0,\"#0d0887\"],[0.1111111111111111,\"#46039f\"],[0.2222222222222222,\"#7201a8\"],[0.3333333333333333,\"#9c179e\"],[0.4444444444444444,\"#bd3786\"],[0.5555555555555556,\"#d8576b\"],[0.6666666666666666,\"#ed7953\"],[0.7777777777777778,\"#fb9f3a\"],[0.8888888888888888,\"#fdca26\"],[1.0,\"#f0f921\"]],\"diverging\":[[0,\"#8e0152\"],[0.1,\"#c51b7d\"],[0.2,\"#de77ae\"],[0.3,\"#f1b6da\"],[0.4,\"#fde0ef\"],[0.5,\"#f7f7f7\"],[0.6,\"#e6f5d0\"],[0.7,\"#b8e186\"],[0.8,\"#7fbc41\"],[0.9,\"#4d9221\"],[1,\"#276419\"]]},\"xaxis\":{\"gridcolor\":\"white\",\"linecolor\":\"white\",\"ticks\":\"\",\"title\":{\"standoff\":15},\"zerolinecolor\":\"white\",\"automargin\":true,\"zerolinewidth\":2},\"yaxis\":{\"gridcolor\":\"white\",\"linecolor\":\"white\",\"ticks\":\"\",\"title\":{\"standoff\":15},\"zerolinecolor\":\"white\",\"automargin\":true,\"zerolinewidth\":2},\"scene\":{\"xaxis\":{\"backgroundcolor\":\"#E5ECF6\",\"gridcolor\":\"white\",\"linecolor\":\"white\",\"showbackground\":true,\"ticks\":\"\",\"zerolinecolor\":\"white\",\"gridwidth\":2},\"yaxis\":{\"backgroundcolor\":\"#E5ECF6\",\"gridcolor\":\"white\",\"linecolor\":\"white\",\"showbackground\":true,\"ticks\":\"\",\"zerolinecolor\":\"white\",\"gridwidth\":2},\"zaxis\":{\"backgroundcolor\":\"#E5ECF6\",\"gridcolor\":\"white\",\"linecolor\":\"white\",\"showbackground\":true,\"ticks\":\"\",\"zerolinecolor\":\"white\",\"gridwidth\":2}},\"shapedefaults\":{\"line\":{\"color\":\"#2a3f5f\"}},\"annotationdefaults\":{\"arrowcolor\":\"#2a3f5f\",\"arrowhead\":0,\"arrowwidth\":1},\"geo\":{\"bgcolor\":\"white\",\"landcolor\":\"#E5ECF6\",\"subunitcolor\":\"white\",\"showland\":true,\"showlakes\":true,\"lakecolor\":\"white\"},\"title\":{\"x\":0.05},\"mapbox\":{\"style\":\"light\"}}},\"scene\":{\"domain\":{\"x\":[0.0,1.0],\"y\":[0.0,1.0]},\"xaxis\":{\"title\":{\"text\":\"x\"}},\"yaxis\":{\"title\":{\"text\":\"y\"}},\"zaxis\":{\"title\":{\"text\":\"z\"}}},\"legend\":{\"tracegroupgap\":0},\"title\":{\"text\":\"3D Scatter Plot\"}},                        {\"responsive\": true}                    ).then(function(){\n",
              "                            \n",
              "var gd = document.getElementById('72e7a995-b889-4983-b283-04228a5e06fe');\n",
              "var x = new MutationObserver(function (mutations, observer) {{\n",
              "        var display = window.getComputedStyle(gd).display;\n",
              "        if (!display || display === 'none') {{\n",
              "            console.log([gd, 'removed!']);\n",
              "            Plotly.purge(gd);\n",
              "            observer.disconnect();\n",
              "        }}\n",
              "}});\n",
              "\n",
              "// Listen for the removal of the full notebook cells\n",
              "var notebookContainer = gd.closest('#notebook-container');\n",
              "if (notebookContainer) {{\n",
              "    x.observe(notebookContainer, {childList: true});\n",
              "}}\n",
              "\n",
              "// Listen for the clearing of the current output cell\n",
              "var outputEl = gd.closest('.output');\n",
              "if (outputEl) {{\n",
              "    x.observe(outputEl, {childList: true});\n",
              "}}\n",
              "\n",
              "                        })                };                            </script>        </div>\n",
              "</body>\n",
              "</html>"
            ]
          },
          "metadata": {}
        }
      ]
    }
  ]
}